{
 "metadata": {
  "name": "",
  "signature": "sha256:12861a998bf98c280dabbde645246898dc6c1814444ce4c08baa1ce3d63fcdba"
 },
 "nbformat": 3,
 "nbformat_minor": 0,
 "worksheets": [
  {
   "cells": [
    {
     "cell_type": "code",
     "collapsed": false,
     "input": [
      "# Support Vector Machine\n",
      "from sklearn import datasets\n",
      "from sklearn import metrics\n",
      "from sklearn.svm import SVC\n",
      "# load the iris datasets\n",
      "dataset = datasets.load_iris()\n",
      "# fit a SVM model to the data\n",
      "model = SVC()\n",
      "model.fit(dataset.data, dataset.target)\n",
      "print(model)\n",
      "# make predictions\n",
      "expected = dataset.target\n",
      "predicted = model.predict(dataset.data)\n",
      "# summarize the fit of the model\n",
      "print(metrics.classification_report(expected, predicted))\n",
      "print(metrics.confusion_matrix(expected, predicted))"
     ],
     "language": "python",
     "metadata": {},
     "outputs": [
      {
       "output_type": "stream",
       "stream": "stdout",
       "text": [
        "SVC(C=1.0, cache_size=200, class_weight=None, coef0=0.0, degree=3, gamma=0.0,\n",
        "  kernel='rbf', max_iter=-1, probability=False, random_state=None,\n",
        "  shrinking=True, tol=0.001, verbose=False)\n",
        "             precision    recall  f1-score   support\n",
        "\n",
        "          0       1.00      1.00      1.00        50\n",
        "          1       1.00      0.96      0.98        50\n",
        "          2       0.96      1.00      0.98        50\n",
        "\n",
        "avg / total       0.99      0.99      0.99       150\n",
        "\n",
        "[[50  0  0]\n",
        " [ 0 48  2]\n",
        " [ 0  0 50]]\n"
       ]
      }
     ],
     "prompt_number": 1
    },
    {
     "cell_type": "code",
     "collapsed": false,
     "input": [],
     "language": "python",
     "metadata": {},
     "outputs": []
    }
   ],
   "metadata": {}
  }
 ]
}