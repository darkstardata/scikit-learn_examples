{
 "metadata": {
  "name": "",
  "signature": "sha256:96c93fce02098cd7472cbc29b3e7790d01e81f5a1f74c5936a10e6c6b369591d"
 },
 "nbformat": 3,
 "nbformat_minor": 0,
 "worksheets": []
}