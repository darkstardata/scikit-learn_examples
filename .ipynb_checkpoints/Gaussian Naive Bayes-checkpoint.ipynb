{
 "metadata": {
  "name": "",
  "signature": "sha256:60bfa2db0a20592fce527684361971c1cefa927b4c5ed585f0e99a2af903de7f"
 },
 "nbformat": 3,
 "nbformat_minor": 0,
 "worksheets": [
  {
   "cells": [
    {
     "cell_type": "code",
     "collapsed": false,
     "input": [
      "# Gaussian Naive Bayes\n",
      "from sklearn import datasets\n",
      "from sklearn import metrics\n",
      "from sklearn.naive_bayes import GaussianNB\n",
      "# load the iris datasets\n",
      "dataset = datasets.load_iris()\n",
      "# fit a Naive Bayes model to the data\n",
      "model = GaussianNB()\n",
      "model.fit(dataset.data, dataset.target)\n",
      "print(model)\n",
      "# make predictions\n",
      "expected = dataset.target\n",
      "predicted = model.predict(dataset.data)\n",
      "# summarize the fit of the model\n",
      "print(metrics.classification_report(expected, predicted))\n",
      "print(metrics.confusion_matrix(expected, predicted))"
     ],
     "language": "python",
     "metadata": {},
     "outputs": []
    }
   ],
   "metadata": {}
  }
 ]
}